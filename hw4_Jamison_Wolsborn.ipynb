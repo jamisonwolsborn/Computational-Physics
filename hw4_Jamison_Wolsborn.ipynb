{
 "cells": [
  {
   "cell_type": "markdown",
   "metadata": {},
   "source": [
    "**Homework 4 Template**\n",
    "\n",
    "Make a copy of this and save as \"hw4_name.ipynb\"\n",
    "\n",
    "Name: Jamison Wolsborn\n",
    "\n",
    "Comments for instructor:\n"
   ]
  },
  {
   "cell_type": "markdown",
   "metadata": {},
   "source": [
    "**Exercise 5.7**\n",
    "\n",
    "Consider the integral\n",
    "\n",
    "\\begin{equation*}\n",
    "I = \\int_0^1 \\sin^2 \\sqrt{100 x} \\>d x\n",
    "\\end{equation*}\n",
    "\n",
    "**a)** Write a program that uses the adaptive trapezoidal rule method of\n",
    "  Section 5.3 and Eq. (5.34) to calculate the value of this integral to an\n",
    "  approximate accuracy of $\\epsilon=10^{-6}$ (i.e., correct to six digits\n",
    "  after the decimal point).  Start with one single integration slice and\n",
    "  work up from there to two, four, eight, and so forth.  Have your program\n",
    "  print out the number of slices, its estimate of the integral, and its\n",
    "  estimate of the error on the integral, for each value of the number of\n",
    "  slices $N$, until the target accuracy is reached.  (Hint: You should find\n",
    "  the result is around $I=0.45$.)"
   ]
  },
  {
   "cell_type": "code",
   "execution_count": 96,
   "metadata": {},
   "outputs": [
    {
     "name": "stdout",
     "output_type": "stream",
     "text": [
      "N =    1 || Integral = 0.384316 || Error = 5.908e-02\n",
      "N =    2 || Integral = 0.574633 || Error = 6.235e-02\n",
      "N =    4 || Integral = 0.439426 || Error = 3.643e-02\n",
      "N =    8 || Integral = 0.439139 || Error = 9.035e-03\n",
      "N =   16 || Integral = 0.454518 || Error = 6.104e-03\n",
      "N =   32 || Integral = 0.455746 || Error = 1.833e-03\n",
      "N =   64 || Integral = 0.455827 || Error = 4.785e-04\n",
      "N =  128 || Integral = 0.455832 || Error = 1.209e-04\n",
      "N =  256 || Integral = 0.455833 || Error = 3.031e-05\n",
      "N =  512 || Integral = 0.455833 || Error = 7.583e-06\n",
      "N = 1024 || Integral = 0.455833 || Error = 1.896e-06\n",
      "N = 2048 || Integral = 0.455833 || Error = 4.740e-07\n"
     ]
    }
   ],
   "source": [
    "import numpy as np\n",
    "\n",
    "#initialize variables\n",
    "N = 1\n",
    "I1 = 0\n",
    "I2 = 0\n",
    "#define bounds\n",
    "a = 0 \n",
    "b = 1\n",
    "\n",
    "#trapezoidal rule from textbook\n",
    "def trap_rule(N):\n",
    "    #inner function\n",
    "    f = lambda x: np.sin(np.sqrt(100*x))**2\n",
    "    h = (b-a)/N\n",
    "    \n",
    "    #integral without h\n",
    "    s = 0.5*f(a) + 0.5*f(b)\n",
    "    for k in range(1,N):\n",
    "        s += f(a+k*h)\n",
    "    \n",
    "    #adding h \n",
    "    return h*s\n",
    "\n",
    "#defining error\n",
    "error = 1\n",
    "\n",
    "#while error is greater than 1e-6 keep doubling N until error is correct\n",
    "while error > 1e-6: \n",
    "    I1 = trap_rule(N)\n",
    "    I2 = trap_rule(N*2)\n",
    "    error = abs((1/3) * (I2 - I1))\n",
    "    Integral = I2 + error\n",
    "    print(\"N = {:4} || Integral = {:5f} || Error = {:.3e}\".format(N,Integral,error))\n",
    "    N *= 2"
   ]
  },
  {
   "cell_type": "markdown",
   "metadata": {},
   "source": [
    "**Pts /10**"
   ]
  },
  {
   "cell_type": "markdown",
   "metadata": {},
   "source": [
    "**b)** Now modify your program to evaluate the same integral using the\n",
    "  Romberg integration technique described in this section.  Have your\n",
    "  program print out a triangular table of values, as on page 161, of all\n",
    "  the Romberg estimates of the integral.  Calculate the error on your\n",
    "  estimates using Eq. (5.49) and again continue the calculation until you\n",
    "  reach an accuracy of $\\epsilon=10^{-6}$.  You should find that the\n",
    "  Romberg method reaches the required accuracy considerably faster than the\n",
    "  trapezoidal rule alone."
   ]
  },
  {
   "cell_type": "code",
   "execution_count": 112,
   "metadata": {},
   "outputs": [
    {
     "name": "stdout",
     "output_type": "stream",
     "text": [
      "[0.14797948]\n",
      "[0.32523191 0.38431605]\n",
      "[0.51228285 0.57463317 0.58732097]\n",
      "[0.40299745 0.36656898 0.35269804 0.34897386]\n",
      "[0.43010337 0.43913868 0.44397666 0.44542552 0.44580376]\n",
      "[0.44841467 0.45451843 0.45554375 0.45572735 0.45576775 0.45577749]\n",
      "[0.45391293 0.45574569 0.4558275  0.45583201 0.45583242 0.45583248\n",
      " 0.45583249]\n",
      "[0.4553485  0.45582703 0.45583245 0.45583253 0.45583253 0.45583253\n",
      " 0.45583253 0.45583253]\n"
     ]
    }
   ],
   "source": [
    "N = 1\n",
    "\n",
    "R = np.zeros((100,100))\n",
    "R[0,0] = trap_rule(N) \n",
    "\n",
    "#initialize error value\n",
    "error = 1\n",
    "i = 0\n",
    "\n",
    "while error > 1e-6:\n",
    "    #double the value of N for every row in the first column\n",
    "    N *= 2\n",
    "    i += 1\n",
    "    \n",
    "    #initialize first column of integrals based off of trapezoid rule\n",
    "    I1 = R[i-1,0]\n",
    "    I2 = trap_rule(N)\n",
    "    R[i,0] = I2\n",
    "    \n",
    "    #apply equation 5.51 to every pertinent column in the row\n",
    "    for m in range(i):\n",
    "        R[i,m+1] =R[i,m] + 1/(4**(m+1)-1)*(R[i,m] - R[i-1,m]) #equation 5.51\n",
    "    \n",
    "    error = abs(R[i,m+1]-R[i-1,m]) \n",
    "\n",
    "#far too complicated print statement to remove all the zeros    \n",
    "j = 1\n",
    "for line in R:\n",
    "    if line[0] != 0:\n",
    "        print(line[:j])\n",
    "        j+=1"
   ]
  },
  {
   "cell_type": "markdown",
   "metadata": {},
   "source": [
    "As we can see, the romberg equation did the same calculation with only 8 iterations instead of the 12 that it took with the adapted trapezoid method. "
   ]
  },
  {
   "cell_type": "markdown",
   "metadata": {},
   "source": [
    "**Pts /10**"
   ]
  },
  {
   "cell_type": "markdown",
   "metadata": {},
   "source": [
    "**Total Exercise Pts /20**"
   ]
  },
  {
   "cell_type": "markdown",
   "metadata": {},
   "source": [
    "**Exercise 5.9**\n",
    "\n",
    "Debye's theory of solids gives the heat capacity of a solid at\n",
    "temperature $T$ to be\n",
    "\n",
    "\\begin{equation*}\n",
    "C_V = 9V\\rho k_B \\biggl( {T\\over\\theta_D} \\biggr)^3 \\int_0^{\\theta_D/T}\n",
    "      {x^4 e^x\\over(e^x-1)^2}\\>d x,\n",
    "\\end{equation*}\n",
    "\n",
    "where $V$ is the volume of the solid, $\\rho$ is the number density of\n",
    "atoms, $k_B$ is Boltzmann's constant, and $\\theta_D$ is the so-called\n",
    "_Debye temperature_, a property of solids that depends on their\n",
    "density and speed of sound.\n",
    "\n",
    "**a)** Write a Python function _cv(T)_ that calculates $C_V$ for a\n",
    "  given value of the temperature, for a sample consisting of 1000 cubic\n",
    "  centimeters of solid aluminum, which has a number density of\n",
    "  $\\rho=6.022\\times10^{28}\\,\\mathrm{m}^{-3}$ and a Debye temperature of\n",
    "  $\\theta_D=428\\,$K.  Use Gaussian quadrature to evaluate the integral,\n",
    "  with $N=50$ sample points."
   ]
  },
  {
   "cell_type": "code",
   "execution_count": 1,
   "metadata": {},
   "outputs": [],
   "source": [
    "from gaussxw import gaussxwab\n",
    "from scipy.constants import Boltzmann\n",
    "import numpy as np\n",
    "\n",
    "alum = 6.022e28 #number density of aluminum\n",
    "vol = 1000 * 1e-6 #1000 cubic centimeters to cubic meters\n",
    "N = 50\n",
    "ThetaD = 428 #Debeye temperature Kelvin\n",
    "\n",
    "\n",
    "def cv(T):\n",
    "    f = lambda x: x**4*np.exp(x)/(np.exp(x)-1)**2\n",
    "    a = 0\n",
    "    b = ThetaD / T\n",
    "    \n",
    "    x,w = gaussxwab(N,a,b)\n",
    "    \n",
    "    C = 9 * vol * alum * Boltzmann * (T/ThetaD)**3\n",
    "    I = sum(w*f(x))\n",
    "    \n",
    "    return C*I\n"
   ]
  },
  {
   "cell_type": "markdown",
   "metadata": {},
   "source": [
    "**Pts /10**"
   ]
  },
  {
   "cell_type": "markdown",
   "metadata": {},
   "source": [
    "**b)** Use your function to make a graph of the heat capacity as a function\n",
    "  of temperature from $T=5\\,$K to $T=500\\,$K."
   ]
  },
  {
   "cell_type": "code",
   "execution_count": 127,
   "metadata": {},
   "outputs": [
    {
     "data": {
      "text/plain": [
       "Text(0, 0.5, 'Heat Capacity (J/kg*K)')"
      ]
     },
     "execution_count": 127,
     "metadata": {},
     "output_type": "execute_result"
    },
    {
     "data": {
      "image/png": "[encoded data removed]",
      "text/plain": [
       "<Figure size 648x432 with 1 Axes>"
      ]
     },
     "metadata": {
      "needs_background": "light"
     },
     "output_type": "display_data"
    }
   ],
   "source": [
    "import matplotlib.pyplot as plt\n",
    "T = np.linspace(5, 500) #temperature range\n",
    "C = [cv(Ti) for Ti in T] #corresponding heat capacity for temperature\n",
    "\n",
    "plt.figure(figsize=(9,6))\n",
    "plt.plot(T,C)\n",
    "plt.xlabel(\"Temperature (K)\")\n",
    "plt.ylabel(\"Heat Capacity (J/kg*K)\")"
   ]
  },
  {
   "cell_type": "markdown",
   "metadata": {},
   "source": [
    "**Pts /5**"
   ]
  },
  {
   "cell_type": "markdown",
   "metadata": {},
   "source": [
    "**Total Exercise Pts /15**"
   ]
  },
  {
   "cell_type": "markdown",
   "metadata": {},
   "source": [
    "**Exercise 5.12**\n",
    "\n",
    "The Planck theory of thermal radiation tells us that in the\n",
    "(angular) frequency interval $\\omega$ to $\\omega+d\\omega$, a black body\n",
    "of unit area radiates electromagnetically an amount of thermal energy per\n",
    "second equal to $I(\\omega)\\>d\\omega$, where\n",
    "\n",
    "\\begin{equation*}\n",
    "  I(\\omega) = {\\hbar\\over4\\pi^2c^2}\\,{\\omega^3\\over(e^{\\hbar\\omega/k_BT}-1)}.\n",
    "\\end{equation*}\n",
    "\n",
    "Here $\\hbar$ is Planck's constant over $2\\pi$, $c$ is the speed of light,\n",
    "and $k_B$ is Boltzmann's constant.\n",
    "\n",
    "**a)** Show that the total energy per unit area radiated by a black body is\n",
    "\n",
    "\\begin{equation*}\n",
    "W = {k_B^4 T^4\\over4\\pi^2c^2\\hbar^3} \\int_0^\\infty {x^3\\over e^x-1}\\>d x.\n",
    "\\end{equation*}"
   ]
  },
  {
   "cell_type": "markdown",
   "metadata": {},
   "source": [
    "Type your answer here or insert an image"
   ]
  },
  {
   "cell_type": "markdown",
   "metadata": {},
   "source": [
    "**Pts /5**"
   ]
  },
  {
   "cell_type": "markdown",
   "metadata": {},
   "source": [
    "**b)** Write a program to evaluate the integral in this expression.  Explain\n",
    "  what method you used, and how accurate you think your answer is."
   ]
  },
  {
   "cell_type": "markdown",
   "metadata": {},
   "source": [
    "I chose Gaussian Quadurature not only because it was the simplest to implement, but because it was the most accurate in the past. Given my rocky history of coding, using Gaussian quadrature would introduce the least amount of human error which makes me more confident in my answer. "
   ]
  },
  {
   "cell_type": "code",
   "execution_count": 160,
   "metadata": {},
   "outputs": [
    {
     "name": "stdout",
     "output_type": "stream",
     "text": [
      "906812.2881749417\n"
     ]
    }
   ],
   "source": [
    "from scipy.constants import Boltzmann, speed_of_light, Planck\n",
    "\n",
    "N = 50 #Decided for bin size of 50\n",
    "a,b = 0, 700 #from zero to as big as you can get without overflow error\n",
    "x,w = gaussxwab(N,a,b)\n",
    "\n",
    "T = 2000 #Kelvin (Arbritrary)\n",
    "f = lambda x: x**3/(np.exp(x)-1) #function to get integral of\n",
    "\n",
    "I = sum(w*f(x)) #integral of function from a to b\n",
    "C = Boltzmann**4*T**4/(4*np.pi**2*speed_of_light**2*(Planck/2/np.pi)**3) #everything to the left of the integral\n",
    "\n",
    "print(I*C) #unsure of units of this value"
   ]
  },
  {
   "cell_type": "markdown",
   "metadata": {},
   "source": [
    "**Pts /10**"
   ]
  },
  {
   "cell_type": "markdown",
   "metadata": {},
   "source": [
    "**c)** Even before Planck gave his theory of thermal radiation around the\n",
    "  turn of the 20th century, it was known that the total energy $W$ given\n",
    "  off by a black body per unit area per second followed Stefan's\n",
    "  law: $W = \\sigma T^4$, where $\\sigma$ is the Stefan--Boltzmann constant.\n",
    "  Use your value for the integral above to compute a value for the\n",
    "  Stefan--Boltzmann constant (in SI units) to three significant figures.\n",
    "  Check your result against the known value, which you can find in books or\n",
    "  on-line.  You should get good agreement."
   ]
  },
  {
   "cell_type": "markdown",
   "metadata": {},
   "source": [
    "When I plugged it into my calculator I got 5.668e-8. This compares quite nicely to the actual value of 5.670e-8 W m^-2 K^-4"
   ]
  },
  {
   "cell_type": "markdown",
   "metadata": {},
   "source": [
    "**Pts /5**"
   ]
  },
  {
   "cell_type": "markdown",
   "metadata": {},
   "source": [
    "**Total Exercise Pts /20**"
   ]
  },
  {
   "cell_type": "markdown",
   "metadata": {},
   "source": [
    "**Exercise 5.14**\n",
    "\n",
    "A uniform square sheet of metal is floating motionless in space (check your textbook for an image representation). The sheet is $10\\,$m on a side and of negligible thickness, and it has a mass of 10 metric tonnes.\n",
    "\n",
    "**a)** Consider the gravitational force due to the plate felt by a point\n",
    "  mass of $1\\,$kg a distance $z$ from the center of the square, in the\n",
    "  direction perpendicular to the sheet, as shown above.  Show that the\n",
    "  component of the force along the $z$-axis is\n",
    "  \n",
    "\\begin{equation*}\n",
    "F_z = G\\sigma z \\iint_{-L/2}^{L/2} {d x\\,d y\\over(x^2+y^2+z^2)^{3/2}}\\,,\n",
    "\\end{equation*}\n",
    "\n",
    "where\n",
    "$G=6.674\\times10^{-11}\\,\\mathrm{m}^3\\,\\mathrm{kg}^{-1}\\,\\mathrm{s}^{-2}$ is\n",
    "Newton's gravitational constant and $\\sigma$ is the mass per unit area of\n",
    "the sheet."
   ]
  },
  {
   "cell_type": "markdown",
   "metadata": {},
   "source": [
    "Type your answer here or insert an image"
   ]
  },
  {
   "cell_type": "markdown",
   "metadata": {},
   "source": [
    "**Pts /5**"
   ]
  },
  {
   "cell_type": "markdown",
   "metadata": {},
   "source": [
    "**b)** Write a program to calculate and plot the force as a function of $z$\n",
    "  from $z=0$ to $z=10\\,$m.  For the double integral use (double) Gaussian\n",
    "  quadrature, as in Eq. (5.82), with 100 sample points along each axis."
   ]
  },
  {
   "cell_type": "code",
   "execution_count": 161,
   "metadata": {
    "scrolled": true
   },
   "outputs": [
    {
     "name": "stdout",
     "output_type": "stream",
     "text": [
      "6.6743e-11\n"
     ]
    }
   ],
   "source": [
    "from scipy.constants import gravitational_constant\n",
    "az, bz = 0, 10 #from 0 to 10 meters\n",
    "mass = 10 * 1000 #10 metric tonnes in kg\n",
    "L = 10\n",
    "A = L**2 #area of plate\n",
    "sigma = mass/A\n",
    "\n",
    "\n",
    "def f(x,y,z):\n",
    "    return (x**2 + y**2 + z**2)**(-3/2)\n",
    "\n",
    "x1, w1 = gaussxwab(N,ax,bx)\n",
    "x2, w2 = gaussxwab(N,ay,by)"
   ]
  },
  {
   "cell_type": "markdown",
   "metadata": {},
   "source": [
    "**Pts /10**"
   ]
  },
  {
   "cell_type": "markdown",
   "metadata": {},
   "source": [
    "**c)** **This part is extra credit** You should see a smooth curve, except at very small values of $z$,\n",
    "  where the force should drop off suddenly to zero.  This drop is not a\n",
    "  real effect, but an artifact of the way we have done the calculation.\n",
    "  Explain briefly where this artifact comes from and suggest a strategy to\n",
    "  remove it, or at least to decrease its size."
   ]
  },
  {
   "cell_type": "markdown",
   "metadata": {},
   "source": [
    "Type your answer here"
   ]
  },
  {
   "cell_type": "markdown",
   "metadata": {},
   "source": [
    "**XC Pts /5**"
   ]
  },
  {
   "cell_type": "markdown",
   "metadata": {},
   "source": [
    "**Total Exercise Pts /15**"
   ]
  },
  {
   "cell_type": "markdown",
   "metadata": {},
   "source": [
    "**Exercise 5.15**\n",
    "\n",
    "Create a user-defined function _f(x)_ that returns the value\n",
    "$1 + \\frac{1}{2} \\tanh2x$, then use a central difference to calculate the\n",
    "derivative of the function in the range $-2\\le x\\le2$.  Calculate an\n",
    "analytic formula for the derivative and make a graph with your numerical\n",
    "result and the analytic answer on the same plot.  It may help to plot the\n",
    "exact answer as lines and the numerical one as dots.  (Hint: In Python the\n",
    "tanh function is found in the _math_ package, and it's called simply\n",
    "_tanh_.)"
   ]
  },
  {
   "cell_type": "code",
   "execution_count": null,
   "metadata": {},
   "outputs": [],
   "source": []
  },
  {
   "cell_type": "markdown",
   "metadata": {},
   "source": [
    "**Total Exercise Pts /10**"
   ]
  },
  {
   "cell_type": "markdown",
   "metadata": {},
   "source": [
    "**Total Pts /80**"
   ]
  }
 ],
 "metadata": {
  "kernelspec": {
   "display_name": "Python 3",
   "language": "python",
   "name": "python3"
  },
  "language_info": {
   "codemirror_mode": {
    "name": "ipython",
    "version": 3
   },
   "file_extension": ".py",
   "mimetype": "text/x-python",
   "name": "python",
   "nbconvert_exporter": "python",
   "pygments_lexer": "ipython3",
   "version": "3.8.5"
  }
 },
 "nbformat": 4,
 "nbformat_minor": 4
}
