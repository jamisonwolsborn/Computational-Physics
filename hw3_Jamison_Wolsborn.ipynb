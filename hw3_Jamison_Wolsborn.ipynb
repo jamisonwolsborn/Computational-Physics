{
 "cells": [
  {
   "cell_type": "markdown",
   "metadata": {},
   "source": [
    "**Homework 3 Template**\n",
    " \n",
    "\n",
    "* Note use the *vpython* module not the *visual* module for Exercise 3.5. Put the *canvas()* at the beginning of your program to create a graphics window.\n",
    "\n",
    "* I added a part b to Exercise 5.6 which is not in the textbook.\n",
    "\n",
    "* These are taken from the textbook but errors may occur when formatting in Markdown. Consult the original exercise in the textbook if in question. \n",
    "\n",
    "Name:\n",
    "\n",
    "Comments for instructor:\n"
   ]
  },
  {
   "cell_type": "markdown",
   "metadata": {},
   "source": [
    "**Exercise 3.5**\n",
    "\n",
    " The innermost six planets of our solar system revolve around the\n",
    "Sun in roughly circular orbits that all lie approximately in the same\n",
    "(ecliptic) plane.  Check your textbook for a table of some basic parameters. \n",
    "\n",
    "Using *vpython* functions, create an\n",
    "animation of the solar system that shows the following:\n",
    "\n",
    "**a)** The Sun and planets as spheres in their appropriate positions and\n",
    "  with sizes proportional to their actual sizes.  Because the radii of the\n",
    "  planets are tiny compared to the distances between them, represent the\n",
    "  planets by spheres with radii $c_1$ times larger than their correct\n",
    "  proportionate values, so that you can see them clearly.  Find a good\n",
    "  value for $c_1$ that makes the planets visible.  You'll also need to find\n",
    "  a good radius for the Sun.  Choose any value that gives a clear\n",
    "  visualization.  (It doesn't work to scale the radius of the Sun by the\n",
    "  same factor you use for the planets, because it'll come out looking much\n",
    "  too large.  So just use whatever works.)  For added realism, you may also\n",
    "  want to make your spheres different colors.  For instance, Earth could be\n",
    "  blue and the Sun could be yellow.\n",
    "  \n",
    "  **b)** The motion of the planets as they move around the Sun (by making the\n",
    "  spheres of the planets move).  In the interests of alleviating boredom,\n",
    "  construct your program so that time in your animation runs a factor of\n",
    "  $c_2$ faster than actual time.  Find a good value of $c_2$ that makes the\n",
    "  motion of the orbits easily visible but not unreasonably fast.  Make use\n",
    "  of the *rate* function to make your animation run smoothly.\n",
    "  \n",
    "  Hint: You may find it useful to store the sphere variables representing the\n",
    "planets in an array of the kind described on page 115."
   ]
  },
  {
   "cell_type": "code",
   "execution_count": 24,
   "metadata": {},
   "outputs": [
    {
     "data": {
      "text/html": [
       "<div id=\"glowscript\" class=\"glowscript\"></div>"
      ],
      "text/plain": [
       "<IPython.core.display.HTML object>"
      ]
     },
     "metadata": {},
     "output_type": "display_data"
    },
    {
     "data": {
      "application/javascript": [
       "if (typeof Jupyter !== \"undefined\") { window.__context = { glowscript_container: $(\"#glowscript\").removeAttr(\"id\")};}else{ element.textContent = ' ';}"
      ],
      "text/plain": [
       "<IPython.core.display.Javascript object>"
      ]
     },
     "metadata": {},
     "output_type": "display_data"
    }
   ],
   "source": [
    "#Type your code here\n",
    "from vpython import *\n",
    "import numpy as np\n",
    "\n",
    "scene = canvas()\n",
    "\n",
    "names = ['Mercury', 'Venus', 'Earth', 'Mars', 'Jupiter', 'Saturn']   \n",
    "colors = [color.purple, color.green, color.blue, color.red, color.orange, color.cyan]\n",
    "radius = [2440, 6052, 6371, 3386, 69173, 57316]\n",
    "orbit = [57.9, 108.2, 149.6, 227.9, 778.5, 1433.4]\n",
    "period = [88.0, 224.7, 365.3, 687.0, 4331.6, 10759.2]\n",
    "\n",
    "\n",
    "sun = sphere(color = color.yellow, radius = 6955, pos=vector(0,0,0)) #the sun is scaled down to make things easier\n",
    "mercury = sphere(color = colors[0], radius = radius[0], pos=vector(orbit[0]*500, 0, 0), make_trail = True)\n",
    "venus = sphere(color = colors[1], radius = radius[1], pos=vector(orbit[1]*500, 0, 0), make_trail = True)\n",
    "earth = sphere(color = colors[2], radius = radius[2], pos=vector(orbit[2]*500, 0, 0), make_trail = True)\n",
    "mars = sphere(color = colors[3], radius = radius[3], pos=vector(orbit[3]*500, 0, 0), make_trail = True)\n",
    "jupiter = sphere(color = colors[4], radius = radius[4], pos=vector(orbit[4]*500, 0, 0), make_trail = True)\n",
    "saturn = sphere(color = colors[5], radius = radius[5], pos=vector(orbit[5]*500, 0, 0), make_trail = True)\n",
    "\n",
    "\n",
    "for t in np.linspace(0,15000,10000):\n",
    "    rate(100)\n",
    "    mercury.pos = vector(orbit[0]*500*np.cos(t/period[0]*2*np.pi), 0, orbit[0]*500*np.sin(t/period[0]*2*np.pi))\n",
    "    venus.pos = vector(orbit[1]*500*np.cos(t/period[1]*2*np.pi), 0, orbit[1]*500*np.sin(t/period[1]*2*np.pi))\n",
    "    earth.pos = vector(orbit[2]*500*np.cos(t/period[2]*2*np.pi), 0, orbit[2]*500*np.sin(t/period[2]*2*np.pi))\n",
    "    mars.pos = vector(orbit[3]*500*np.cos(t/period[3]*2*np.pi), 0, orbit[3]*500*np.sin(t/period[3]*2*np.pi))\n",
    "    jupiter.pos = vector(orbit[4]*500*np.cos(t/period[4]*2*np.pi), 0, orbit[4]*500*np.sin(t/period[4]*2*np.pi))\n",
    "    saturn.pos = vector(orbit[5]*500*np.cos(t/period[5]*2*np.pi), 0, orbit[5]*500*np.sin(t/period[5]*2*np.pi))"
   ]
  },
  {
   "cell_type": "markdown",
   "metadata": {},
   "source": [
    "**Total Exercise Pts /10**"
   ]
  },
  {
   "cell_type": "markdown",
   "metadata": {},
   "source": [
    "**Exercise 4.3**\n",
    "\n",
    "Suppose we have a function $f(x)$ and we want to\n",
    "calculate its derivative at a point $x$.  We can do that with pencil and\n",
    "paper if we know the mathematical form of the function, or we can do it on\n",
    "the computer by making use of the definition of the derivative:\n",
    "\n",
    "\\begin{equation*}\n",
    "{ df\\over dx} = \\lim_{\\delta\\to0} {f(x+\\delta)-f(x)\\over\\delta}.\n",
    "\\end{equation*}\n",
    "\n",
    "On the computer we can't actually take the limit as $\\delta$ goes to\n",
    "zero, but we can get a reasonable approximation just by making $\\delta$\n",
    "small.\n",
    "\n",
    "**a)** Write a program that defines a function _f(x)_ returning the\n",
    "  value $x(x-1)$, then calculates the derivative of the function at the\n",
    "  point $x=1$ using the formula above with $\\delta=10^{-2}$.  \n"
   ]
  },
  {
   "cell_type": "code",
   "execution_count": 27,
   "metadata": {},
   "outputs": [
    {
     "name": "stdout",
     "output_type": "stream",
     "text": [
      "1.010000000000001\n",
      "1.0000999999998899\n",
      "1.0000009999177333\n",
      "1.0000000039225287\n",
      "1.000000082840371\n",
      "1.0000889005833413\n",
      "0.9992007221626509\n"
     ]
    }
   ],
   "source": [
    "#Type your code here\n",
    "\n",
    "def f(x):\n",
    "    return x*(x-1)\n",
    "\n",
    "def derivative(x,delta):\n",
    "    return (f(x + delta) - f(x))/delta\n",
    "\n",
    "print(derivative(1, 10**-2))\n",
    "print(derivative(1, 10**-4))\n",
    "print(derivative(1, 10**-6))\n",
    "print(derivative(1, 10**-8))\n",
    "print(derivative(1, 10**-10))\n",
    "print(derivative(1, 10**-12))\n",
    "print(derivative(1, 10**-14))"
   ]
  },
  {
   "cell_type": "markdown",
   "metadata": {},
   "source": [
    "Calculate the true value of the same derivative analytically and compare with the answer your program gives.  The two will not agree perfectly.  Why not?"
   ]
  },
  {
   "cell_type": "markdown",
   "metadata": {},
   "source": [
    "$ \\frac{d}{dx} x^2 - x = 2x - 1 $\n",
    "\n",
    "$  x = 1  $\n",
    "\n",
    "$\\frac{df}{dx} = 1 $\n",
    "\n",
    "These two do not agree perfecty because the value of delta is not sufficiently small. "
   ]
  },
  {
   "cell_type": "markdown",
   "metadata": {},
   "source": [
    "**Pts /5**"
   ]
  },
  {
   "cell_type": "markdown",
   "metadata": {},
   "source": [
    "**b)** Repeat the calculation for $\\delta=10^{-4}$, $10^{-6}$, $10^{-8}$,\n",
    "  $10^{-10}$, $10^{-12}$, and $10^{-14}$.  Have your program output the derivative for each. You should see that the accuracy\n",
    "  of the calculation initially gets better as $\\delta$ gets smaller, but\n",
    "  then gets worse again.  Why is this?"
   ]
  },
  {
   "cell_type": "markdown",
   "metadata": {},
   "source": [
    "The precision of python code is up to 16 significant digits. So when you take anything less than 10^-8 the rounding errors get more and more significant. This error happens when we subract two numbers that are nearly equal, f(x+delta) - f(x), as we lose precision with our rounding errors, we deviate from the true answer. "
   ]
  },
  {
   "cell_type": "markdown",
   "metadata": {},
   "source": [
    "**Pts /5**"
   ]
  },
  {
   "cell_type": "markdown",
   "metadata": {},
   "source": [
    "**Total Exercise Pts /10**"
   ]
  },
  {
   "cell_type": "markdown",
   "metadata": {},
   "source": [
    "**Exercise 4.4**\n",
    "\n",
    "Suppose we want to calculate the value of the\n",
    "integral\n",
    "\n",
    "\\begin{equation*}\n",
    "I = \\int_{-1}^1 \\sqrt{1-x^2} \\>d x.\n",
    "\\end{equation*}\n",
    "\n",
    "Check your textbook for a visualization of what the integrand looks like.\n",
    "\n",
    "Alternatively, we can evaluate the integral on the computer by dividing the\n",
    "domain of integration into a large number~$N$ of slices of width $h=2/N$\n",
    "each and then using the Riemann definition of the integral:\n",
    "\n",
    "\\begin{equation*}\n",
    "I = \\lim_{N\\to\\infty} \\sum_{k=1}^N hy_k\\,,\n",
    "\\end{equation*}\n",
    "\n",
    "where\n",
    "\n",
    "\\begin{equation*}\n",
    "y_k = \\sqrt{1 - x_k^2}\\qquad\\mbox{and}\\qquad\n",
    "x_k = -1 + hk.\n",
    "\\end{equation*}\n",
    "\n",
    "We cannot in practice take the limit $N\\to\\infty$, but we can make a\n",
    "reasonable approximation by just making $N$ large.\n",
    "\n",
    "**a)** Write a program to evaluate the integral above with $N=100$ and\n",
    "  compare the result with the exact value.  The two will not agree very\n",
    "  well, because $N=100$ is not a sufficiently large number of slices."
   ]
  },
  {
   "cell_type": "code",
   "execution_count": 46,
   "metadata": {},
   "outputs": [
    {
     "name": "stdout",
     "output_type": "stream",
     "text": [
      "1.553417929404895\n",
      "Wall time: 29 ms\n"
     ]
    }
   ],
   "source": [
    "%%time\n",
    "#Type your code here\n",
    "import numpy as np\n",
    "\n",
    "N = 100\n",
    "h = 2/N \n",
    "x = np.linspace(-1,1,N) #x is from -1 to 1\n",
    "y = np.sqrt(1-x**2) \n",
    "\n",
    "I = h*sum(y) #could also be done with a for loop\n",
    "\n",
    "print(I)"
   ]
  },
  {
   "cell_type": "markdown",
   "metadata": {},
   "source": [
    "**Pts /5**"
   ]
  },
  {
   "cell_type": "markdown",
   "metadata": {},
   "source": [
    "**b)** Increase the value of $N$ to get a more accurate value for the\n",
    "  integral.  If we require that the program runs in about one second or\n",
    "  less, how accurate a value can you get?"
   ]
  },
  {
   "cell_type": "markdown",
   "metadata": {},
   "source": [
    "I = 1.5707960850336007\n",
    "Wall time: 895 ms"
   ]
  },
  {
   "cell_type": "markdown",
   "metadata": {},
   "source": [
    "**Pts /5**"
   ]
  },
  {
   "cell_type": "markdown",
   "metadata": {},
   "source": [
    "**Total Exercise Pts /10**"
   ]
  },
  {
   "cell_type": "markdown",
   "metadata": {},
   "source": [
    "**Exercise 5.3**\n",
    "\n",
    "Consider the integral\n",
    "\n",
    "\\begin{equation*}\n",
    "E(x) = \\int_0^x e^{-t^2} \\>d t.\n",
    "\\end{equation*}\n",
    "\n",
    "**a)** Write a program to calculate $E(x)$ for values of $x$ from 0 to 3 in\n",
    "  steps of 0.1.  Choose for yourself what method you will use for\n",
    "  performing the integral and a suitable number of slices."
   ]
  },
  {
   "cell_type": "code",
   "execution_count": 99,
   "metadata": {
    "scrolled": false
   },
   "outputs": [
    {
     "name": "stdout",
     "output_type": "stream",
     "text": [
      "Value x = 0.0 || The integral is 0.0000\n",
      "Value x = 0.1 || The integral is 0.0997\n",
      "Value x = 0.2 || The integral is 0.1974\n",
      "Value x = 0.3 || The integral is 0.2912\n",
      "Value x = 0.4 || The integral is 0.3797\n",
      "Value x = 0.5 || The integral is 0.4613\n",
      "Value x = 0.6 || The integral is 0.5352\n",
      "Value x = 0.7 || The integral is 0.6007\n",
      "Value x = 0.8 || The integral is 0.6577\n",
      "Value x = 0.9 || The integral is 0.7062\n",
      "Value x = 1.0 || The integral is 0.7468\n",
      "Value x = 1.1 || The integral is 0.7801\n",
      "Value x = 1.2 || The integral is 0.8067\n",
      "Value x = 1.3 || The integral is 0.8277\n",
      "Value x = 1.4 || The integral is 0.8439\n",
      "Value x = 1.5 || The integral is 0.8562\n",
      "Value x = 1.6 || The integral is 0.8653\n",
      "Value x = 1.7 || The integral is 0.8719\n",
      "Value x = 1.8 || The integral is 0.8766\n",
      "Value x = 1.9 || The integral is 0.8798\n",
      "Value x = 2.0 || The integral is 0.8821\n",
      "Value x = 2.1 || The integral is 0.8836\n",
      "Value x = 2.2 || The integral is 0.8846\n",
      "Value x = 2.3 || The integral is 0.8852\n",
      "Value x = 2.4 || The integral is 0.8856\n",
      "Value x = 2.5 || The integral is 0.8859\n",
      "Value x = 2.6 || The integral is 0.8860\n",
      "Value x = 2.7 || The integral is 0.8861\n",
      "Value x = 2.8 || The integral is 0.8862\n",
      "Value x = 2.9 || The integral is 0.8862\n",
      "Value x = 3.0 || The integral is 0.8862\n"
     ]
    }
   ],
   "source": [
    "import numpy as np\n",
    "\n",
    "#trapezoid method\n",
    "def E(t):\n",
    "    return np.exp(-1*t**2)\n",
    "\n",
    "# set the limits of integration\n",
    "a=0\n",
    "b = np.arange(0,3.1,.1) #stored as an array\n",
    "# set N\n",
    "N = 1000\n",
    "I_array = np.array([])\n",
    "# perform the summation from k=1, N-1\n",
    "\n",
    "for i in b:\n",
    "    Isum = 0\n",
    "    h = (i-a)/N #the size of h changes as b gets larger\n",
    "    \n",
    "    for k in range(1, int(N)):\n",
    "        Isum += E(a+k*h) \n",
    "        \n",
    "    I = h*(0.5*(E(a) + E(i)) + Isum)\n",
    "    I_array = np.append(I_array, I)\n",
    "    print(\"Value x = {:.1f} || The integral is {:.4f}\".format(i,I))"
   ]
  },
  {
   "cell_type": "markdown",
   "metadata": {},
   "source": [
    "**Pts /5**"
   ]
  },
  {
   "cell_type": "markdown",
   "metadata": {},
   "source": [
    "**b)** When you are convinced your program is working, extend it further to\n",
    "  make a graph of $E(x)$ as a function of $x$.  If you want to remind\n",
    "  yourself of how to make a graph, you should consult Section 3.1, starting\n",
    "  on page 88."
   ]
  },
  {
   "cell_type": "code",
   "execution_count": 100,
   "metadata": {},
   "outputs": [
    {
     "data": {
      "text/plain": [
       "Text(0, 0.5, 'Value of Integral')"
      ]
     },
     "execution_count": 100,
     "metadata": {},
     "output_type": "execute_result"
    },
    {
     "data": {
      "image/png": "[encoded data removed]",
      "text/plain": [
       "<Figure size 432x288 with 1 Axes>"
      ]
     },
     "metadata": {
      "needs_background": "light"
     },
     "output_type": "display_data"
    }
   ],
   "source": [
    "#Type your code here\n",
    "import matplotlib.pyplot as plt\n",
    "\n",
    "plt.plot(b,I_array)\n",
    "plt.xlabel('Value of x')\n",
    "plt.ylabel('Value of Integral')"
   ]
  },
  {
   "cell_type": "markdown",
   "metadata": {},
   "source": [
    "**Pts /5**"
   ]
  },
  {
   "cell_type": "markdown",
   "metadata": {},
   "source": [
    "**Total Exercise Pts /10**"
   ]
  },
  {
   "cell_type": "markdown",
   "metadata": {},
   "source": [
    "**Exercise 5.4**\n",
    "\n",
    "Our ability to resolve detail in astronomical observations is\n",
    "limited by the diffraction of light in our telescopes.  Light from stars\n",
    "can be treated effectively as coming from a point source at infinity.  When\n",
    "such light, with wavelength $\\lambda$, passes through the circular aperture\n",
    "of a telescope (which we'll assume to have unit radius) and is focused by\n",
    "the telescope in the focal plane, it produces not a single dot, but a\n",
    "circular diffraction pattern consisting of central spot surrounded by a\n",
    "series of concentric rings.  The intensity of the light in this diffraction\n",
    "pattern is given by\n",
    "\n",
    "\\begin{equation*}\n",
    "I(r) = \\biggl( {J_1(kr)\\over kr} \\biggr)^2,\n",
    "\\end{equation*}\n",
    "\n",
    "where $r$ is the distance in the focal plane from the center of the\n",
    "diffraction pattern, $k=2\\pi/\\lambda$, and $J_1(x)$ is a Bessel function.\n",
    "The Bessel functions $J_m(x)$ are given by\n",
    "\n",
    "\\begin{equation*}\n",
    "J_m(x) = {1\\over\\pi} \\int_0^\\pi \\cos(m\\theta - x\\sin\\theta) \\>d\\theta,\n",
    "\\end{equation*}\n",
    "\n",
    "where $m$ is a nonnegative integer and $x\\ge0$.\n",
    "\n",
    "**a)** Write a Python function _J(m,x)_ that calculates the value of\n",
    "  $J_m(x)$ using Simpson's rule with $N=1000$ points.  Use your\n",
    "  function in a program to make a plot, on a single graph, of the Bessel\n",
    "  functions $J_0$, $J_1$, and $J_2$ as a function of $x$ from $x=0$ to\n",
    "  $x=20$."
   ]
  },
  {
   "cell_type": "code",
   "execution_count": 147,
   "metadata": {},
   "outputs": [
    {
     "data": {
      "text/plain": [
       "<matplotlib.legend.Legend at 0x14208ddda00>"
      ]
     },
     "execution_count": 147,
     "metadata": {},
     "output_type": "execute_result"
    },
    {
     "data": {
      "image/png": "[encoded data removed]",
      "text/plain": [
       "<Figure size 648x432 with 1 Axes>"
      ]
     },
     "metadata": {
      "needs_background": "light"
     },
     "output_type": "display_data"
    }
   ],
   "source": [
    "import numpy as np\n",
    "import matplotlib.pyplot as plt\n",
    "\n",
    "\n",
    "def J(m,x): \n",
    "    \n",
    "    integral = []\n",
    "    \n",
    "    for xi in x:\n",
    "        \n",
    "        def f(theta):\n",
    "            return np.cos(m*theta - x*np.sin(theta))\n",
    "        \n",
    "        a = 0\n",
    "        b = np.pi\n",
    "        N = 1000\n",
    "        h = (b-a)/N\n",
    "        \n",
    "        k = 0.0\n",
    "    \n",
    "        Isum = 0\n",
    "        theta = a + h\n",
    "    \n",
    "        for i in range(1,int(N/2 + 1)): #odds\n",
    "            k += 4*f(theta)\n",
    "            theta += 2*h\n",
    "    \n",
    "        theta = a + 2*h\n",
    "        for i in range(1,int(N/2)): #evens\n",
    "            k += 2*f(theta)\n",
    "            theta += 2*h\n",
    "    \n",
    "        integral=(h/3)*(f(a) + f(b) + k)\n",
    "    \n",
    "    return 1/np.pi * integral\n",
    "    \n",
    "x = np.arange(0,21)\n",
    "\n",
    "plt.figure(figsize = (9,6))\n",
    "m0 = plt.plot(x, J(0,x), label = 'm = 0')\n",
    "m1 = plt.plot(x, J(1,x), label = 'm = 1')\n",
    "m2 = plt.plot(x, J(2,x), label = 'm = 2')\n",
    "plt.xlabel('Value of X')\n",
    "plt.ylabel('Bessel Value')\n",
    "plt.legend(handles = [m0[0],m1[0],m2[0]])"
   ]
  },
  {
   "cell_type": "markdown",
   "metadata": {},
   "source": [
    "**Pts /5**"
   ]
  },
  {
   "cell_type": "markdown",
   "metadata": {},
   "source": [
    "**b)** Make a second program that makes a density plot of the intensity of\n",
    "  the circular diffraction pattern of a point light source with\n",
    "  $\\lambda=500\\,$nm, in a square region of the focal plane, using the\n",
    "  formula given above.  Your picture should cover values of $r$ from zero\n",
    "  up to about $1\\,\\mu$m."
   ]
  },
  {
   "cell_type": "code",
   "execution_count": null,
   "metadata": {},
   "outputs": [],
   "source": [
    "#ran out of time, should have started the assignment earlier"
   ]
  },
  {
   "cell_type": "markdown",
   "metadata": {},
   "source": [
    "**Pts /5**"
   ]
  },
  {
   "cell_type": "markdown",
   "metadata": {},
   "source": [
    "Check your textbook for hints if you get stuck."
   ]
  },
  {
   "cell_type": "markdown",
   "metadata": {},
   "source": [
    "**Total Exercise Pts /10**"
   ]
  },
  {
   "cell_type": "markdown",
   "metadata": {},
   "source": [
    "**Exercise 5.6**\n",
    "\n",
    "a) Write a program, or modify an earlier one, to once more calculate\n",
    "the value of the integral $\\int_0^2 (x^4 - 2x + 1) \\>d x$ from\n",
    "Example (5.28), using the trapezoidal rule with $20$ slices, but this time\n",
    "have the program also print an estimate of the error on the result,\n",
    "calculated using the method of Eq. (5.28).  To do this you will need to\n",
    "evaluate the integral twice, once with $N_1=10$ slices and then again with\n",
    "$N_2=20$ slices.  Then Eq. (5.28) gives the error.  How does the error\n",
    "calculated in this manner compare with a direct computation of the error as\n",
    "the difference between your value for the integral and the true value\n",
    "of 4.4?  Why do the two not agree perfectly?"
   ]
  },
  {
   "cell_type": "code",
   "execution_count": 9,
   "metadata": {},
   "outputs": [],
   "source": [
    "#ran out of time, should have started the assignment earlier"
   ]
  },
  {
   "cell_type": "markdown",
   "metadata": {},
   "source": [
    "_Type your response here_"
   ]
  },
  {
   "cell_type": "markdown",
   "metadata": {},
   "source": [
    "**Pts /10**"
   ]
  },
  {
   "cell_type": "markdown",
   "metadata": {},
   "source": [
    "b) Also calculate the error using the *Euler-Maclaurin formula* of Eq. (5.20). How does this compare with your other two estimates of the error?"
   ]
  },
  {
   "cell_type": "markdown",
   "metadata": {},
   "source": [
    "_Type your response here_"
   ]
  },
  {
   "cell_type": "markdown",
   "metadata": {},
   "source": [
    "**Pts /5**"
   ]
  },
  {
   "cell_type": "markdown",
   "metadata": {},
   "source": [
    "**Total Exercise Pts /15**"
   ]
  },
  {
   "cell_type": "markdown",
   "metadata": {},
   "source": [
    "**Total Pts /65**"
   ]
  }
 ],
 "metadata": {
  "kernelspec": {
   "display_name": "Python 3",
   "language": "python",
   "name": "python3"
  },
  "language_info": {
   "codemirror_mode": {
    "name": "ipython",
    "version": 3
   },
   "file_extension": ".py",
   "mimetype": "text/x-python",
   "name": "python",
   "nbconvert_exporter": "python",
   "pygments_lexer": "ipython3",
   "version": "3.8.8"
  }
 },
 "nbformat": 4,
 "nbformat_minor": 4
}
