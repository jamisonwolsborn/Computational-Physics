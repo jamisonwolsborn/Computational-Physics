{
 "cells": [
  {
   "cell_type": "markdown",
   "metadata": {},
   "source": [
    "**Homework 9 Template**\n",
    "\n",
    "Make a copy of this and save as \"hw9_name.ipynb\"\n",
    "\n",
    "Name: Jamison Wolsborn\n",
    "\n",
    "Comments for instructor:\n"
   ]
  },
  {
   "cell_type": "code",
   "execution_count": 1,
   "metadata": {},
   "outputs": [],
   "source": [
    "import numpy as np\n",
    "import matplotlib.pyplot as plt"
   ]
  },
  {
   "cell_type": "markdown",
   "metadata": {},
   "source": [
    "**Exercise 9.4**\n",
    "\n",
    "A classic example of a diffusion problem with a time-varying boundary condition is the diffusion of heat into the crust of the Earth, as surface temperature varies with the seasons.  Suppose the mean daily temperature at a particular point on the surface varies as:\n",
    "\n",
    "\\begin{equation*}\n",
    "T_0(t) = A + B\\sin {2\\pi t\\over\\tau},\n",
    "\\end{equation*}\n",
    "\n",
    "where $\\tau=365\\,$days, $A=10^\\circ$C and $B=12^\\circ$C.  At a depth of $20\\,$m below the surface almost all annual temperature variation is ironed out and the temperature is, to a good approximation, a constant $11^\\circ$C\n",
    "(which is higher than the mean surface temperature of $10^\\circ$C---temperature increases with depth, due to heating from the hot core of the planet).  The thermal diffusivity of the Earth's crust varies somewhat from place to place, but for our purposes we will treat it as constant with value $D=0.1\\,\\mathrm{m}^2\\,\\mathrm{day}^{-1}$.\n",
    "\n",
    "Write a program, or modify one of the ones given in this chapter, to calculate the temperature profile of the crust as a function of depth up to $20\\,$m and time up to 10 years.  Start with temperature everywhere equal to $10^\\circ$C, except at the surface and the deepest point, choose values for the number of grid points and the time-step $h$, then run your program\n",
    "for the first nine simulated years, to allow it to settle down into whatever pattern it reaches.  Then for the tenth and final year plot four temperature profiles taken at 3-month intervals on a single graph to illustrate how the temperature changes as a function of depth and time."
   ]
  },
  {
   "cell_type": "code",
   "execution_count": 16,
   "metadata": {},
   "outputs": [
    {
     "data": {
      "text/plain": [
       "(0.0, 20.0)"
      ]
     },
     "execution_count": 16,
     "metadata": {},
     "output_type": "execute_result"
    },
    {
     "data": {
      "image/png": "[encoded data removed]",
      "text/plain": [
       "<Figure size 432x288 with 1 Axes>"
      ]
     },
     "metadata": {
      "needs_background": "light"
     },
     "output_type": "display_data"
    }
   ],
   "source": [
    "rho = 365.25 #days with leapyears\n",
    "A = 10 #celcius\n",
    "B = 12 #celcius\n",
    "C = 11 #Deepest point temp\n",
    "D = 0.1 #meter^2 day^-1\n",
    "\n",
    "def Temp(t):\n",
    "    A + B*np.sin(2*np.pi*t/rho)\n",
    "\n",
    "L = 20 #Meters deep\n",
    "N = 100\n",
    "a = L/N\n",
    "h = 1e-3\n",
    "epsilon = h/1000\n",
    "\n",
    "t1 = rho*9\n",
    "t2 = t1 + rho/3\n",
    "t3 = t2 + rho/3\n",
    "t4 = t3 + rho/3\n",
    "t5 = t4 + rho/3\n",
    "tend = t5 + epsilon\n",
    "\n",
    "T = np.zeros([N+1],float)\n",
    "T[0] = B\n",
    "T[N] = C\n",
    "T[1:N] = A\n",
    "Tp = np.empty([N+1],float)\n",
    "Tp[0] = 12\n",
    "Tp[N] = 10\n",
    "\n",
    "t = 0.0\n",
    "c = h*D/(a*a)\n",
    "while t<tend:\n",
    "    T[0] = Temp(t)\n",
    "    Tp[1:N] = T[1:N] + c*(T[0:N-1]+T[2:N+1]-2*T[1:N])\n",
    "    T,Tp = Tp,T\n",
    "    t += h\n",
    "    \n",
    "    # Make plots at the given times\n",
    "    if abs(t-t1)<epsilon:\n",
    "        plt.plot(T,'b')\n",
    "    elif abs(t-t2)<epsilon:\n",
    "        plt.plot(T)\n",
    "    elif abs(t-t3)<epsilon:\n",
    "        plt.plot(T)\n",
    "    elif abs(t-t4)<epsilon:\n",
    "        plt.plot(T)\n",
    "    elif abs(t-t5)<epsilon:\n",
    "        plt.plot(T)\n",
    "        \n",
    "plt.xlim(0,20)"
   ]
  },
  {
   "cell_type": "code",
   "execution_count": 2,
   "metadata": {},
   "outputs": [
    {
     "data": {
      "image/png": "[encoded data removed]",
      "text/plain": [
       "<Figure size 432x288 with 1 Axes>"
      ]
     },
     "metadata": {
      "needs_background": "light"
     },
     "output_type": "display_data"
    }
   ],
   "source": [
    "from numpy import empty\n",
    "from pylab import plot,xlabel,ylabel,show\n",
    "\n",
    "# Constants\n",
    "L = 0.01      # Thickness of steel in meters\n",
    "D = 4.25e-6   # Thermal diffusivity\n",
    "N = 100       # Number of divisions in grid\n",
    "a = L/N       # Grid spacing\n",
    "h = 1e-4      # Time-step\n",
    "epsilon = h/1000\n",
    "\n",
    "Tlo = 10.0     # Low temperature in Celcius\n",
    "Tmid = 11.0   # Intermediate temperature in Celcius\n",
    "Thi = 12.0    # Hi temperature in Celcius\n",
    "\n",
    "t1 = 0.01\n",
    "t2 = 0.1\n",
    "t3 = 0.4\n",
    "t4 = 1.0\n",
    "t5 = 10.0\n",
    "tend = t5 + epsilon\n",
    "\n",
    "# Create arrays\n",
    "T = empty(N+1,float)\n",
    "T[0] = Thi\n",
    "T[N] = Tlo\n",
    "T[1:N] = Tmid\n",
    "Tp = empty(N+1,float)\n",
    "Tp[0] = Thi\n",
    "Tp[N] = Tlo\n",
    "\n",
    "# Main loop\n",
    "t = 0.0\n",
    "c = h*D/(a*a)\n",
    "while t<tend:\n",
    "\n",
    "    # Calculate the new values of T\n",
    "    for i in range(1,N):\n",
    "        Tp[i] = T[i] + c*(T[i+1]+T[i-1]-2*T[i])\n",
    "    T,Tp = Tp,T\n",
    "    t += h\n",
    "\n",
    "    # Make plots at the given times\n",
    "    if abs(t-t1)<epsilon:\n",
    "        plot(T)\n",
    "    if abs(t-t2)<epsilon:\n",
    "        plot(T)\n",
    "    if abs(t-t3)<epsilon:\n",
    "        plot(T)\n",
    "    if abs(t-t4)<epsilon:\n",
    "        plot(T)\n",
    "    if abs(t-t5)<epsilon:\n",
    "        plot(T)\n",
    "\n",
    "xlabel(\"x\")\n",
    "ylabel(\"T\")\n",
    "show()"
   ]
  },
  {
   "cell_type": "code",
   "execution_count": 15,
   "metadata": {},
   "outputs": [
    {
     "name": "stdout",
     "output_type": "stream",
     "text": [
      "0.20000000000000004\n",
      "h =  0.0365\n"
     ]
    },
    {
     "name": "stderr",
     "output_type": "stream",
     "text": [
      "<ipython-input-15-e4dc6dfe94da>:32: DeprecationWarning: scipy.zeros is deprecated and will be removed in SciPy 2.0.0, use numpy.zeros instead\n",
      "  temp = zeros([N + 1], float)\n",
      "<ipython-input-15-e4dc6dfe94da>:35: DeprecationWarning: scipy.empty is deprecated and will be removed in SciPy 2.0.0, use numpy.empty instead\n",
      "  temp_1 = empty([N + 1], float)\n",
      "<ipython-input-15-e4dc6dfe94da>:28: DeprecationWarning: scipy.sin is deprecated and will be removed in SciPy 2.0.0, use numpy.sin instead\n",
      "  return 10 + 12 * sin(2 * pi * t / 365)\n",
      "<ipython-input-15-e4dc6dfe94da>:28: DeprecationWarning: scipy.sin is deprecated and will be removed in SciPy 2.0.0, use numpy.sin instead\n",
      "  return 10 + 12 * sin(2 * pi * t / 365)\n",
      "<ipython-input-15-e4dc6dfe94da>:28: DeprecationWarning: scipy.sin is deprecated and will be removed in SciPy 2.0.0, use numpy.sin instead\n",
      "  return 10 + 12 * sin(2 * pi * t / 365)\n",
      "<ipython-input-15-e4dc6dfe94da>:28: DeprecationWarning: scipy.sin is deprecated and will be removed in SciPy 2.0.0, use numpy.sin instead\n",
      "  return 10 + 12 * sin(2 * pi * t / 365)\n",
      "<ipython-input-15-e4dc6dfe94da>:28: DeprecationWarning: scipy.sin is deprecated and will be removed in SciPy 2.0.0, use numpy.sin instead\n",
      "  return 10 + 12 * sin(2 * pi * t / 365)\n"
     ]
    },
    {
     "data": {
      "image/png": "[encoded data removed]",
      "text/plain": [
       "<Figure size 432x288 with 1 Axes>"
      ]
     },
     "metadata": {
      "needs_background": "light"
     },
     "output_type": "display_data"
    }
   ],
   "source": [
    "from scipy import zeros, sin, pi, empty, arange\n",
    "from pylab import plot, show, xlabel, ylabel\n",
    "\n",
    "# Constants\n",
    "# Note need to ensure h < a^2 / 2 * D to ensure numerical stability\n",
    "D = 0.1  # diffusion constant in m^2 / day\n",
    "x_0 = 0\n",
    "x_f = 20  # final depth in m\n",
    "t_0 = 0\n",
    "t_f = 10 * 365  # 10 years in days\n",
    "N = 100  # number of spatial grid points\n",
    "a = x_f / N\n",
    "h = (t_f - t_0) / 100000  # time step size in days\n",
    "c = h * D / (a) ** 2\n",
    "epsilon = h / 10000\n",
    "\n",
    "\n",
    "print(a ** 2 / (2 * D))\n",
    "print('h = ', h)\n",
    "\n",
    "t1 = 3285  # 9 years in days\n",
    "t2 = 3376.25\n",
    "t3 = 3467.5\n",
    "t4 = 3558.75\n",
    "\n",
    "\n",
    "def T(t):\n",
    "    return 10 + 12 * sin(2 * pi * t / 365)\n",
    "\n",
    "\n",
    "# Create arrays\n",
    "temp = zeros([N + 1], float)\n",
    "temp = temp + 10\n",
    "temp[N] = 11  # Celsius\n",
    "temp_1 = empty([N + 1], float)\n",
    "temp_1[0] = T(0)\n",
    "temp_1[N] = 11\n",
    "\n",
    "# Loop\n",
    "t = t_0\n",
    "while t < t_f:\n",
    "    temp[0] = T(t)\n",
    "    temp_1[1: N] = temp[1: N] + c * (temp[0: N - 1] + temp[2: N + 1] - 2 * temp[1: N])\n",
    "    temp, temp_1 = temp_1, temp\n",
    "    t += h\n",
    "\n",
    "    # Make plots at desired times\n",
    "    if abs(t - t1) < epsilon:\n",
    "        plot(temp, 'b')\n",
    "    elif abs(t - t2) < epsilon:\n",
    "        plot(temp, 'g')\n",
    "    elif abs(t - t3) < epsilon:\n",
    "        plot(temp, 'r')\n",
    "    elif abs(t - t4) < epsilon:\n",
    "        plot(temp, color='orange')\n",
    "\n",
    "xlabel(\"x\")\n",
    "ylabel(\"T\")\n",
    "show()"
   ]
  },
  {
   "cell_type": "markdown",
   "metadata": {},
   "source": [
    "**Total Exercise Pts /10**"
   ]
  },
  {
   "cell_type": "markdown",
   "metadata": {},
   "source": [
    "**Exercise 9.5**\n",
    "\n",
    "Consider a piano string of length $L$, initially at rest.  At time $t=0$ the string is struck by the piano hammer a distance $d$ from the end of the string. Check your textbook for a diagram.\n",
    "\n",
    "The string vibrates as a result of being struck, except at the ends, $x=0$ and $x=L$, where it is held fixed.\n",
    "\n",
    "**a)**\n",
    "Write a program that uses the FTCS method to solve the complete set of simultaneous first-order equations, Eq. (9.28), for the case $v=100\\,\\mathrm{ms}^{-1}$, with the initial condition that $\\phi(x)=0$ everywhere but the velocity $\\psi(x)$ is nonzero, with profile\n",
    "\n",
    "\\begin{equation*}\n",
    "\\psi(x) = C {x(L-x)\\over L^2} \\exp \\biggl[ -{(x-d)^2\\over2\\sigma^2} \\biggr],\n",
    "\\end{equation*}\n",
    "\n",
    "where $L=1\\,$m, $d=10\\,$cm, $C=1\\,\\mathrm{ms}^{-1}$, and $\\sigma=0.3\\,$m. You will also need to choose a value for the time-step~$h$.  A reasonable choice is $h=10^{-6}\\,$s."
   ]
  },
  {
   "cell_type": "code",
   "execution_count": 2,
   "metadata": {},
   "outputs": [],
   "source": [
    "#Type your code here"
   ]
  },
  {
   "cell_type": "markdown",
   "metadata": {},
   "source": [
    "**Pts /10**"
   ]
  },
  {
   "cell_type": "markdown",
   "metadata": {},
   "source": [
    "**b)** \n",
    "Make an animation of the motion of the piano string using the facilities provided by the *vpython* package, which we studied in Section 3.4.  There are various ways you could do this.  A simple one would be to just place a small sphere at the location of each grid point on the string.  A more sophisticated approach would be to use the _curve_ object in the *vpython* package---see the on-line documentation at _www.vpython.org_ for details.  A convenient feature of the curve object is that you can specify its set of $x$ positions and $y$ positions separately as arrays.  In this exercise the\n",
    "  $x$ positions only need to specified once, since they never change, while the $y$ positions will need to be specified anew each time you take a time-step.  Also, since the vertical displacement of the string is much less than its horizontal length, you will probably need to multiply the vertical displacement by a fairly large factor to make it visible on the\n",
    "  screen.\n",
    "\n",
    "  Allow your animation to run for some time, until numerical instabilities\n",
    "  start to appear."
   ]
  },
  {
   "cell_type": "code",
   "execution_count": 3,
   "metadata": {},
   "outputs": [],
   "source": [
    "#Type your code here"
   ]
  },
  {
   "cell_type": "markdown",
   "metadata": {},
   "source": [
    "**Pts /5**"
   ]
  },
  {
   "cell_type": "markdown",
   "metadata": {},
   "source": [
    "**Total Exercise Pts /15**"
   ]
  },
  {
   "cell_type": "markdown",
   "metadata": {},
   "source": [
    "**Exercise 9.9**\n",
    "\n",
    "This exercise uses the spectral method to solve the time-dependent Schrodinger equation\n",
    "\n",
    "\\begin{equation*}\n",
    "-{\\hbar^2\\over2M} {\\partial^2\\psi\\over\\partial x^2}\n",
    "  = i\\hbar {\\partial\\psi\\over\\partial t}\n",
    "\\end{equation*}\n",
    "\n",
    "for the same system as in Exercise 9.8, a single particle in one dimension in a box of length $L$ with impenetrable walls.  The wavefunction in such a box necessarily goes to zero on the walls and hence one possible (unnormalized) solution of the equation is\n",
    "\n",
    "\\begin{equation*}\n",
    "\\psi_k(x,t) = \\sin \\biggl( {\\pi k x\\over L} \\biggr)\\,e^{i Et/\\hbar},\n",
    "\\end{equation*}\n",
    "\n",
    "where the energy $E$ can be found by substituting into the Schrodinger equation, giving\n",
    "\n",
    "\\begin{equation*}\n",
    "E = {\\pi^2\\hbar^2k^2\\over2ML^2}.\n",
    "\\end{equation*}\n",
    "\n",
    "As with the vibrating string of Section 9.3.4, we can write a full solution\n",
    "as a linear combination of such individual solutions, which on the grid\n",
    "points $x_n=nL/N$ takes the value\n",
    "\n",
    "\\begin{equation*}\n",
    "\\psi(x_n,t) = {1\\over N}\n",
    "              \\sum_{k=1}^{N-1} b_k \\sin \\biggl( {\\pi k n\\over N} \\biggr)\\>\n",
    "              \\exp \\biggl( i{\\pi^2\\hbar k^2\\over2ML^2} t \\biggr),\n",
    "\\end{equation*}\n",
    "\n",
    "where the $b_k$ are some set of (possibly complex) coefficients that\n",
    "specify the exact shape of the wavefunction and the leading factor of $1/N$\n",
    "is optional but convenient.\n",
    "\n",
    "Since the Schrodinger equation (unlike the wave equation) is first order\n",
    "in time, we need only a single initial condition on the value\n",
    "of $\\psi(x,t)$ to specify the coefficients $b_k$, although, since the\n",
    "coefficients are in general complex, we will need to calculate both real\n",
    "and imaginary parts of each coefficient.\n",
    "\n",
    "As in Exercise 9.8 we consider an electron (mass $M=9.109\\times10^{-31}\\,$kg) in a box of length~$L=10^{-8}\\,$m.  At time\n",
    "$t=0$ the wavefunction of the electron has the form \n",
    "\n",
    "\\begin{equation*}\n",
    "\\psi(x,0) = \\exp \\biggl[ -{(x-x_0)^2\\over2\\sigma^2} \\biggr]\n",
    "            e^{i\\kappa x},\n",
    "\\end{equation*}\n",
    "\n",
    "where\n",
    "\n",
    "\\begin{equation*}\n",
    "x_0 = {L\\over2},\\qquad\n",
    "\\sigma = 1\\times10^{-10}\\,\\mathrm{m},\\qquad\n",
    "\\kappa = 5\\times10^{10}\\,\\mathrm{m}^{-1},\n",
    "\\end{equation*}\n",
    "\n",
    "and $\\psi=0$ on the walls at $x=0$ and $x=L$.\n",
    "\n",
    "**a)** \n",
    "Write a program to calculate the values of the coefficients $b_k$, which for convenience can be broken down into their real and imaginary parts as $b_k=\\alpha_k+ i\\eta_k$.  Divide the box into $N=1000$ slices and create two arrays containing the real and imaginary parts of $\\psi(x_n,0)$ at each grid point.  Perform discrete sine transforms on each array separately and hence calculate the values of the $\\alpha_k$ and $\\eta_k$ for all $k=1\\ldots N-1$.\n",
    "\n",
    "To perform the discrete sine transforms, you can use the fast transform function _dst_ from the package _dcst_, which you can find in the on-line resources in the file named _dcst.py_.  A copy of the code for the package can also be found in Appendix E.  The function takes an array of $N$ real numbers and returns the discrete sine transform as another array of $N$ numbers.\n",
    "\n",
    "(Note that the first element of the input array should in principle always be zero for a sine transform, but if it is not the _dst_ function will simply pretend that it is.  Similarly the first element of the returned array is always zero, since the $k=0$ coefficient of a sine transform is always zero.  So in effect, the sine transform really only takes $N-1$ real numbers and transforms them into another $N-1$ real numbers.  In some implementations of the discrete sine transform, therefore, though not the one in the package _dsct_ used here, the first element of each array is simply omitted, since it's always zero anyway, and the arrays are only $N-1$ elements long.)"
   ]
  },
  {
   "cell_type": "code",
   "execution_count": 4,
   "metadata": {},
   "outputs": [],
   "source": [
    "#Type your code here"
   ]
  },
  {
   "cell_type": "markdown",
   "metadata": {},
   "source": [
    "**Pts /5**"
   ]
  },
  {
   "cell_type": "markdown",
   "metadata": {},
   "source": [
    "**b)** \n",
    "Putting $b_k=\\alpha_k+ i\\eta_k$ in the solution above and taking the real part we get\n",
    "\n",
    "\\begin{equation*}\n",
    "\\Re \\psi(x_n,t) = {1\\over N} \\sum_{k=1}^{N-1}\n",
    "            \\biggl[ \\alpha_k \\cos \\biggl( {\\pi^2\\hbar k^2\\over2ML^2} t \\biggr)\n",
    "            - \\eta_k \\sin \\biggl( {\\pi^2\\hbar k^2\\over2ML^2} t \\biggr) \\biggr]\n",
    "            \\sin \\biggl( {\\pi k n\\over N} \\biggr)\n",
    "\\end{equation*}\n",
    "\n",
    "for the real part of the wavefunction.  This is an inverse sine transform with coefficients equal to the quantities in the square brackets. Extend your program to calculate the real part of the wavefunction $\\psi(x,t)$ at an arbitrary time $t$ using this formula and the inverse discrete sine transform function _idst_, also from the package _dcst_.  Test your program by making a graph of the wavefunction at time $t=10^{-16}\\,$s."
   ]
  },
  {
   "cell_type": "code",
   "execution_count": 3,
   "metadata": {},
   "outputs": [],
   "source": [
    "#Type your code here"
   ]
  },
  {
   "cell_type": "markdown",
   "metadata": {},
   "source": [
    "**Pts /5**"
   ]
  },
  {
   "cell_type": "markdown",
   "metadata": {},
   "source": [
    "**c)**\n",
    "Extend your program further to make an animation of the wavefunction over time, similar to that described in part (b) of Exercise 9.8 above. A suitable time interval for each frame of the animation is about $10^{-18}\\,$s."
   ]
  },
  {
   "cell_type": "code",
   "execution_count": 3,
   "metadata": {},
   "outputs": [],
   "source": [
    "#Type your code here"
   ]
  },
  {
   "cell_type": "markdown",
   "metadata": {},
   "source": [
    "**Pts /5**"
   ]
  },
  {
   "cell_type": "markdown",
   "metadata": {},
   "source": [
    "**d)**\n",
    "Run your animation for a while and describe what you see.  Write a few sentences explaining in physics terms what is going on in the system."
   ]
  },
  {
   "cell_type": "code",
   "execution_count": 5,
   "metadata": {},
   "outputs": [],
   "source": [
    "#Type your code here"
   ]
  },
  {
   "cell_type": "markdown",
   "metadata": {},
   "source": [
    "**Pts /5**"
   ]
  },
  {
   "cell_type": "markdown",
   "metadata": {},
   "source": [
    "**Total Exercise Pts /20**"
   ]
  },
  {
   "cell_type": "markdown",
   "metadata": {},
   "source": [
    "**Exercise 10.2**\n",
    "\n",
    "This exercise looks at a more advanced version of the simple radioactive decay simulation in Example 10.1. The isotope $^{213}$Bi decays to stable $^{209}$Bi via one of two different routes, with probabilities and half-lives (check your textbook for a figure of this). (Technically, $^{209}$Bi isn't really stable, but it has a half-life of more than $10^{19}$ years, a billion times the age of the universe, so it might as well be.)\n",
    "\n",
    "Starting with a sample consisting of $10\\,000$ atoms of $^{213}$Bi, simulate the decay of the atoms as in Example 10.1 by dividing time into slices of length $\\delta t=1\\,$s each and on each step doing the following:\n",
    "\n",
    "**a)**\n",
    "For each atom of $^{209}$Pb in turn, decide at random, with the appropriate probability, whether it decays or not.  (The probability can be calculated from Eq. (10.3).)  Count the total number that decay, subtract it from the number of $^{209}$Pb atoms, and add it to the number of $^{209}$Bi atoms."
   ]
  },
  {
   "cell_type": "markdown",
   "metadata": {},
   "source": [
    "**b)**\n",
    "Now do the same for $^{209}$Tl, except that decaying atoms are subtracted from the total for $^{209}$Tl and added to the total for $^{209}$Pb."
   ]
  },
  {
   "cell_type": "code",
   "execution_count": 1,
   "metadata": {},
   "outputs": [],
   "source": [
    "#Type your code here"
   ]
  },
  {
   "cell_type": "markdown",
   "metadata": {},
   "source": [
    "**Total Exercise Pts /15**"
   ]
  },
  {
   "cell_type": "markdown",
   "metadata": {},
   "source": [
    "**Exercise 10.3**\n",
    "\n",
    "Brownian motion is the motion of a particle, such as a smoke or dust particle, in a gas, as it is buffeted by random collisions with gas molecules.  Make a simple computer simulation of such a particle in two dimensions as follows.  The particle is confined to a square grid or lattice $L\\times L$ squares on a side, so that its position can be represented by two integers $i,j = 0\\ldots L-1$.  It starts in the middle of the grid.  On each step of the simulation, choose a random\n",
    "direction---up, down, left, or right---and move the particle one step in that direction.  This process is called a random walk.  The particle is not allowed to move outside the limits of the lattice---if it tries to do so, choose a new random direction to move in.\n",
    "\n",
    "Write a program to perform a million steps of this process on a lattice with $L=101$ and make an animation on the screen of the position of the particle.  (We choose an odd length for the side of the square so that there is one lattice site exactly in the center.)\n",
    "\n",
    "Note: The _vpython_ package doesn't always work well with the _random_ package, but if you import functions from _vpython_ first, then from _random_, you should avoid problems."
   ]
  },
  {
   "cell_type": "code",
   "execution_count": 4,
   "metadata": {},
   "outputs": [],
   "source": [
    "#Type your code here"
   ]
  },
  {
   "cell_type": "markdown",
   "metadata": {},
   "source": [
    "**Total Exercise Pts /10**"
   ]
  },
  {
   "cell_type": "markdown",
   "metadata": {},
   "source": [
    "**Total Pts /80**"
   ]
  }
 ],
 "metadata": {
  "kernelspec": {
   "display_name": "Python 3",
   "language": "python",
   "name": "python3"
  },
  "language_info": {
   "codemirror_mode": {
    "name": "ipython",
    "version": 3
   },
   "file_extension": ".py",
   "mimetype": "text/x-python",
   "name": "python",
   "nbconvert_exporter": "python",
   "pygments_lexer": "ipython3",
   "version": "3.8.8"
  }
 },
 "nbformat": 4,
 "nbformat_minor": 4
}
